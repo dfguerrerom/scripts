{
 "cells": [
  {
   "cell_type": "code",
   "execution_count": 1,
   "id": "9dee3b90-d109-441a-85ad-fda4b6d8f89c",
   "metadata": {},
   "outputs": [],
   "source": [
    "# import ee\n",
    "# ee.Initialize()"
   ]
  },
  {
   "cell_type": "markdown",
   "id": "d1e39fa8-40f5-40cc-a781-7fe6f5b291e2",
   "metadata": {
    "tags": []
   },
   "source": [
    "# Testing notebook\n",
    "\n",
    "This notebook is useful to test zonal_stats function. It contains a dictionary with a collection of different formats of data. The function is able to reduce the area of categorical and continuos data from an image or image collection."
   ]
  },
  {
   "cell_type": "code",
   "execution_count": 2,
   "id": "c06c2df3-93c2-4017-a119-448718f78559",
   "metadata": {},
   "outputs": [],
   "source": [
    "import json\n",
    "from shapely.geometry import shape\n",
    "\n",
    "from calculate_area import zonal_stats"
   ]
  },
  {
   "cell_type": "code",
   "execution_count": 3,
   "id": "cfddd003-7cfe-4e03-97cb-0b49e67dabd2",
   "metadata": {},
   "outputs": [],
   "source": [
    "# Opening JSON file\n",
    "f = open('data.json')\n",
    "data = json.load(f)"
   ]
  },
  {
   "cell_type": "code",
   "execution_count": 13,
   "id": "24d8a734-5e42-421f-b2fb-d12d1b5c444e",
   "metadata": {},
   "outputs": [
    {
     "data": {
      "image/svg+xml": [
       "<svg xmlns=\"http://www.w3.org/2000/svg\" xmlns:xlink=\"http://www.w3.org/1999/xlink\" width=\"100.0\" height=\"100.0\" viewBox=\"-75.91349370981109 -1.5320943721645346 0.060477409856559916 0.09340731333682162\" preserveAspectRatio=\"xMinYMin meet\"><g transform=\"matrix(1,0,0,-1,0,-2.970781430992248)\"><g><path fill-rule=\"evenodd\" fill=\"#66cc99\" stroke=\"#555555\" stroke-width=\"0.0018681462667364324\" opacity=\"0.6\" d=\"M -75.88994979858398,-1.442146588951299 L -75.9041976928711,-1.4579343782400327 L -75.88651657104492,-1.476982541739627 L -75.85647583007812,-1.4534726228737347 L -75.88994979858398,-1.442146588951299 z\" /><path fill-rule=\"evenodd\" fill=\"#66cc99\" stroke=\"#555555\" stroke-width=\"0.0018681462667364324\" opacity=\"0.6\" d=\"M -75.9100341796875,-1.4939713066293112 L -75.88977813720703,-1.5286348420409486 L -75.8602523803711,-1.4953441303982713 L -75.9100341796875,-1.4939713066293112 z\" /></g></g></svg>"
      ],
      "text/plain": [
       "<shapely.geometry.multipolygon.MultiPolygon at 0x7f1cb977f820>"
      ]
     },
     "execution_count": 13,
     "metadata": {},
     "output_type": "execute_result"
    }
   ],
   "source": [
    "test_data_sources = {\n",
    "    \"categorical\": [\n",
    "        {\n",
    "            \"asset_id\":\"COPERNICUS/Landcover/100m/Proba-V-C3/Global\",\n",
    "            \"ini_date\":\"2015-01-01\",\n",
    "            \"end_date\":\"2019-12-31\",\n",
    "            \"band\":\"discrete_classification\",\n",
    "            \"categorical\" : True\n",
    "        },\n",
    "    ],\n",
    "    \"continuous\": [\n",
    "        {\n",
    "            \"asset_id\":\"ECMWF/ERA5/MONTHLY\",\n",
    "            \"ini_date\":\"2015-01-01\",\n",
    "            \"end_date\":\"2019-12-31\",\n",
    "            \"band\":\"mean_2m_air_temperature\",\n",
    "            \"categorical\" : False\n",
    "\n",
    "        },\n",
    "        {\n",
    "            \"asset_id\":\"UCSB-CHG/CHIRPS/PENTAD\",\n",
    "            \"ini_date\": \"2015-01-01\",\n",
    "            \"end_date\": \"2019-12-31\",\n",
    "            \"band\": \"precipitation\",\n",
    "            \"categorical\" : False\n",
    "        },\n",
    "        {\n",
    "            \"asset_id\":\"CGIAR/SRTM90_V4\",\n",
    "            \"ini_date\": \"2015-01-01\",\n",
    "            \"end_date\": \"2019-12-31\",\n",
    "            \"band\": \"mean_2m_air_temperature\",\n",
    "            \"categorical\" : False\n",
    "        },\n",
    "    ]\n",
    "}\n",
    "\n",
    "polygon =     [\n",
    "        [[12.110134703672, 42.4439359314072],\n",
    "          [12.2254428638839, 42.2732798542936],\n",
    "          [12.3407510240958, 42.10262377718],\n",
    "          [12.4560591843077, 41.9319677000664],\n",
    "          [12.7005124839569, 41.9319677000664],\n",
    "          [12.9449657836061, 41.9319677000664],\n",
    "          [13.1894190832553, 41.9319677000664],\n",
    "          [13.4338723829045, 41.9319677000664],\n",
    "          [13.4338723829045, 42.8175343704937],\n",
    "          [13.2309300209316, 42.8774946138039],\n",
    "          [13.0279876589586, 42.937454857114],\n",
    "          [12.8250452969857, 42.9974151004242],\n",
    "          [12.6221029350128, 43.0573753437344],\n",
    "          [12.4929577955755, 43.0066397532412],\n",
    "          [12.3638126561382, 42.9559041627479],\n",
    "          [12.2346675167009, 42.9051685722547],\n",
    "          [12.1055223772636, 42.8544329817615],\n",
    "          [11.9948265434602, 42.6145920085208],\n",
    "          [12.110134703672, 42.4439359314072]]\n",
    "    ]\n",
    "\n",
    "polygon = \"\"\"{\n",
    "    \"type\": \"MultiPolygon\",\n",
    "    \"coordinates\": [\n",
    "        [\n",
    "            [\n",
    "                [-75.88994979858398, -1.442146588951299],\n",
    "                [-75.9041976928711, -1.4579343782400327],\n",
    "                [-75.88651657104492, -1.476982541739627],\n",
    "                [-75.85647583007812, -1.4534726228737347],\n",
    "                [-75.88994979858398, -1.442146588951299]\n",
    "            ]\n",
    "        ],\n",
    "        [\n",
    "            [\n",
    "                [-75.9100341796875, -1.4939713066293112],\n",
    "                [-75.88977813720703, -1.5286348420409486],\n",
    "                [-75.8602523803711, -1.4953441303982713],\n",
    "                [-75.9100341796875, -1.4939713066293112]\n",
    "            ]\n",
    "        ]\n",
    "    ]\n",
    "}\"\"\"\n",
    "shape(json.loads(polygon))"
   ]
  },
  {
   "cell_type": "code",
   "execution_count": 14,
   "id": "fdf8637a-e6f8-43d9-98f9-1dc13a74fd00",
   "metadata": {},
   "outputs": [],
   "source": [
    "test_data = test_data_sources[\"continuous\"][0]\n",
    "\n",
    "asset_id = test_data[\"asset_id\"]\n",
    "band = test_data[\"band\"]\n",
    "ini_date = test_data[\"ini_date\"]\n",
    "end_date = test_data[\"end_date\"]\n",
    "categorical = test_data[\"categorical\"]"
   ]
  },
  {
   "cell_type": "code",
   "execution_count": 15,
   "id": "391c1c61-21cc-44e2-95fc-6dd6cdb3d120",
   "metadata": {},
   "outputs": [
    {
     "ename": "TypeError",
     "evalue": "string indices must be integers",
     "output_type": "error",
     "traceback": [
      "\u001b[0;31m---------------------------------------------------------------------------\u001b[0m",
      "\u001b[0;31mTypeError\u001b[0m                                 Traceback (most recent call last)",
      "Input \u001b[0;32mIn [15]\u001b[0m, in \u001b[0;36m<cell line: 1>\u001b[0;34m()\u001b[0m\n\u001b[0;32m----> 1\u001b[0m \u001b[43mzonal_stats\u001b[49m\u001b[43m(\u001b[49m\u001b[43masset_id\u001b[49m\u001b[43m,\u001b[49m\u001b[43m \u001b[49m\u001b[43mini_date\u001b[49m\u001b[43m,\u001b[49m\u001b[43m \u001b[49m\u001b[43mend_date\u001b[49m\u001b[43m,\u001b[49m\u001b[43m \u001b[49m\u001b[43mband\u001b[49m\u001b[43m,\u001b[49m\u001b[43m \u001b[49m\u001b[43mpolygon\u001b[49m\u001b[43m,\u001b[49m\u001b[43m \u001b[49m\u001b[43mcategorical\u001b[49m\u001b[43m)\u001b[49m\n",
      "File \u001b[0;32m~/1_modules/scripts/GEE/calculate_area.py:101\u001b[0m, in \u001b[0;36mzonal_stats\u001b[0;34m(asset_id, ini_date, end_date, band, polygon, categorical)\u001b[0m\n\u001b[1;32m     89\u001b[0m     from_name \u001b[38;5;241m=\u001b[39m append\u001b[38;5;241m.\u001b[39mmap(\u001b[38;5;28;01mlambda\u001b[39;00m x: ee\u001b[38;5;241m.\u001b[39mString(image\u001b[38;5;241m.\u001b[39mbandNames()\u001b[38;5;241m.\u001b[39mget(\u001b[38;5;241m0\u001b[39m))\u001b[38;5;241m.\u001b[39mcat(ee\u001b[38;5;241m.\u001b[39mString(x)))\n\u001b[1;32m     91\u001b[0m     \u001b[38;5;28;01mreturn\u001b[39;00m ee\u001b[38;5;241m.\u001b[39mFeature(\n\u001b[1;32m     92\u001b[0m         \u001b[38;5;28;01mNone\u001b[39;00m, \n\u001b[1;32m     93\u001b[0m         reduced\u001b[38;5;241m.\u001b[39mcombine(\n\u001b[0;32m   (...)\u001b[0m\n\u001b[1;32m     97\u001b[0m         )\u001b[38;5;241m.\u001b[39mrename(from_name, stats)\n\u001b[1;32m     98\u001b[0m     )\n\u001b[0;32m--> 101\u001b[0m geometry \u001b[38;5;241m=\u001b[39m ee\u001b[38;5;241m.\u001b[39mGeometry\u001b[38;5;241m.\u001b[39mMultiPolygon(\u001b[43mpolygon\u001b[49m\u001b[43m[\u001b[49m\u001b[38;5;124;43m\"\u001b[39;49m\u001b[38;5;124;43mcoordinates\u001b[39;49m\u001b[38;5;124;43m\"\u001b[39;49m\u001b[43m]\u001b[49m)\n\u001b[1;32m    102\u001b[0m source_type \u001b[38;5;241m=\u001b[39m ee\u001b[38;5;241m.\u001b[39mdata\u001b[38;5;241m.\u001b[39mgetAsset(asset_id)[\u001b[38;5;124m\"\u001b[39m\u001b[38;5;124mtype\u001b[39m\u001b[38;5;124m\"\u001b[39m]\n\u001b[1;32m    104\u001b[0m \u001b[38;5;28;01mif\u001b[39;00m source_type \u001b[38;5;241m==\u001b[39m \u001b[38;5;124m\"\u001b[39m\u001b[38;5;124mIMAGE_COLLECTION\u001b[39m\u001b[38;5;124m\"\u001b[39m:\n",
      "\u001b[0;31mTypeError\u001b[0m: string indices must be integers"
     ]
    }
   ],
   "source": [
    "zonal_stats(asset_id, ini_date, end_date, band, polygon, categorical)"
   ]
  },
  {
   "cell_type": "code",
   "execution_count": null,
   "id": "dc8d47ad-da30-4b64-b911-1f25d93460ff",
   "metadata": {},
   "outputs": [],
   "source": []
  }
 ],
 "metadata": {
  "kernelspec": {
   "display_name": "Python 3",
   "language": "python",
   "name": "python3"
  },
  "language_info": {
   "codemirror_mode": {
    "name": "ipython",
    "version": 3
   },
   "file_extension": ".py",
   "mimetype": "text/x-python",
   "name": "python",
   "nbconvert_exporter": "python",
   "pygments_lexer": "ipython3",
   "version": "3.8.10"
  }
 },
 "nbformat": 4,
 "nbformat_minor": 5
}
