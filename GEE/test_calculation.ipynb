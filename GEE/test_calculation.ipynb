{
 "cells": [
  {
   "cell_type": "code",
   "execution_count": null,
   "id": "9dee3b90-d109-441a-85ad-fda4b6d8f89c",
   "metadata": {},
   "outputs": [],
   "source": [
    "# import ee\n",
    "# ee.Initialize()"
   ]
  },
  {
   "cell_type": "markdown",
   "id": "d1e39fa8-40f5-40cc-a781-7fe6f5b291e2",
   "metadata": {
    "jp-MarkdownHeadingCollapsed": true,
    "tags": []
   },
   "source": [
    "# Testing notebook\n",
    "\n",
    "This notebook is useful to test zonal_stats function. It contains a dictionary with a collection of different formats of data. The function is able to reduce the area of categorical and continuos data from an image or image collection."
   ]
  },
  {
   "cell_type": "code",
   "execution_count": null,
   "id": "c06c2df3-93c2-4017-a119-448718f78559",
   "metadata": {},
   "outputs": [],
   "source": [
    "from calculate_area import zonal_stats"
   ]
  },
  {
   "cell_type": "code",
   "execution_count": null,
   "id": "24d8a734-5e42-421f-b2fb-d12d1b5c444e",
   "metadata": {},
   "outputs": [],
   "source": [
    "test_data_sources = {\n",
    "    \"categorical\": [\n",
    "        {\n",
    "            \"asset_id\":\"COPERNICUS/Landcover/100m/Proba-V-C3/Global\",\n",
    "            \"ini_date\":\"2015-01-01\",\n",
    "            \"end_date\":\"2019-12-31\",\n",
    "            \"band\":\"discrete_classification\",\n",
    "            \"categorical\" : True\n",
    "        },\n",
    "    ],\n",
    "    \"continuous\": [\n",
    "        {\n",
    "            \"asset_id\":\"ECMWF/ERA5/MONTHLY\",\n",
    "            \"ini_date\":\"2015-01-01\",\n",
    "            \"end_date\":\"2019-12-31\",\n",
    "            \"band\":\"mean_2m_air_temperature\",\n",
    "            \"categorical\" : False\n",
    "\n",
    "        },\n",
    "        {\n",
    "            \"asset_id\":\"UCSB-CHG/CHIRPS/PENTAD\",\n",
    "            \"ini_date\": \"2015-01-01\",\n",
    "            \"end_date\": \"2019-12-31\",\n",
    "            \"band\": \"precipitation\",\n",
    "            \"categorical\" : False\n",
    "        },\n",
    "        {\n",
    "            \"asset_id\":\"CGIAR/SRTM90_V4\",\n",
    "            \"ini_date\": \"2015-01-01\",\n",
    "            \"end_date\": \"2019-12-31\",\n",
    "            \"band\": \"mean_2m_air_temperature\",\n",
    "            \"categorical\" : False\n",
    "        },\n",
    "    ]\n",
    "}\n",
    "\n",
    "polygon =     [\n",
    "        [[12.110134703672, 42.4439359314072],\n",
    "          [12.2254428638839, 42.2732798542936],\n",
    "          [12.3407510240958, 42.10262377718],\n",
    "          [12.4560591843077, 41.9319677000664],\n",
    "          [12.7005124839569, 41.9319677000664],\n",
    "          [12.9449657836061, 41.9319677000664],\n",
    "          [13.1894190832553, 41.9319677000664],\n",
    "          [13.4338723829045, 41.9319677000664],\n",
    "          [13.4338723829045, 42.8175343704937],\n",
    "          [13.2309300209316, 42.8774946138039],\n",
    "          [13.0279876589586, 42.937454857114],\n",
    "          [12.8250452969857, 42.9974151004242],\n",
    "          [12.6221029350128, 43.0573753437344],\n",
    "          [12.4929577955755, 43.0066397532412],\n",
    "          [12.3638126561382, 42.9559041627479],\n",
    "          [12.2346675167009, 42.9051685722547],\n",
    "          [12.1055223772636, 42.8544329817615],\n",
    "          [11.9948265434602, 42.6145920085208],\n",
    "          [12.110134703672, 42.4439359314072]]\n",
    "    ]"
   ]
  },
  {
   "cell_type": "code",
   "execution_count": null,
   "id": "fdf8637a-e6f8-43d9-98f9-1dc13a74fd00",
   "metadata": {},
   "outputs": [],
   "source": [
    "test_data = test_data_sources[\"continuous\"][0]\n",
    "\n",
    "asset_id = test_data[\"asset_id\"]\n",
    "band = test_data[\"band\"]\n",
    "ini_date = test_data[\"ini_date\"]\n",
    "end_date = test_data[\"end_date\"]\n",
    "categorical = test_data[\"categorical\"]"
   ]
  },
  {
   "cell_type": "code",
   "execution_count": null,
   "id": "391c1c61-21cc-44e2-95fc-6dd6cdb3d120",
   "metadata": {},
   "outputs": [],
   "source": [
    "zonal_stats(asset_id, ini_date, end_date, band, polygon, categorical)"
   ]
  }
 ],
 "metadata": {
  "kernelspec": {
   "display_name": "Python 3",
   "language": "python",
   "name": "python3"
  },
  "language_info": {
   "codemirror_mode": {
    "name": "ipython",
    "version": 3
   },
   "file_extension": ".py",
   "mimetype": "text/x-python",
   "name": "python",
   "nbconvert_exporter": "python",
   "pygments_lexer": "ipython3",
   "version": "3.8.10"
  }
 },
 "nbformat": 4,
 "nbformat_minor": 5
}
