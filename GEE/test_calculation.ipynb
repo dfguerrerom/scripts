{
 "cells": [
  {
   "cell_type": "code",
   "execution_count": null,
   "id": "9dee3b90-d109-441a-85ad-fda4b6d8f89c",
   "metadata": {},
   "outputs": [],
   "source": [
    "# import ee\n",
    "# ee.Initialize()"
   ]
  },
  {
   "cell_type": "markdown",
   "id": "d1e39fa8-40f5-40cc-a781-7fe6f5b291e2",
   "metadata": {
    "tags": []
   },
   "source": [
    "# Testing notebook\n",
    "\n",
    "This notebook is useful to test zonal_stats function. It contains a dictionary with a collection of different formats of data. The function is able to reduce the area of categorical and continuos data from an image or image collection."
   ]
  },
  {
   "cell_type": "code",
   "execution_count": null,
   "id": "c06c2df3-93c2-4017-a119-448718f78559",
   "metadata": {},
   "outputs": [],
   "source": [
    "import json\n",
    "from shapely.geometry import shape\n",
    "\n",
    "from calculate_area import zonal_stats"
   ]
  },
  {
   "cell_type": "code",
   "execution_count": null,
   "id": "24d8a734-5e42-421f-b2fb-d12d1b5c444e",
   "metadata": {},
   "outputs": [],
   "source": [
    "test_data_sources = {\n",
    "    \"categorical\": [\n",
    "        {\n",
    "            \"asset_id\":\"COPERNICUS/Landcover/100m/Proba-V-C3/Global\",\n",
    "            \"ini_date\":\"2015-01-01\",\n",
    "            \"end_date\":\"2019-12-31\",\n",
    "            \"band\":\"discrete_classification\",\n",
    "            \"categorical\" : True\n",
    "        },\n",
    "    ],\n",
    "    \"continuous\": [\n",
    "        {\n",
    "            \"asset_id\":\"NASA/MEASURES/GFCC/TC/v3\",\n",
    "            \"ini_date\":\"2015-01-01\",\n",
    "            \"end_date\":\"2019-12-31\",\n",
    "            \"band\":\"tree_canopy_cover\",\n",
    "            \"categorical\" : False\n",
    "\n",
    "        },\n",
    "        {\n",
    "            \"asset_id\":\"ECMWF/ERA5/MONTHLY\",\n",
    "            \"ini_date\":\"2015-01-01\",\n",
    "            \"end_date\":\"2019-12-31\",\n",
    "            \"band\":\"mean_2m_air_temperature\",\n",
    "            \"categorical\" : False\n",
    "\n",
    "        },\n",
    "        {\n",
    "            \"asset_id\":\"UCSB-CHG/CHIRPS/PENTAD\",\n",
    "            \"ini_date\": \"2015-01-01\",\n",
    "            \"end_date\": \"2019-12-31\",\n",
    "            \"band\": \"precipitation\",\n",
    "            \"categorical\" : False\n",
    "        },\n",
    "        {\n",
    "            \"asset_id\":\"CGIAR/SRTM90_V4\",\n",
    "            \"ini_date\": \"2015-01-01\",\n",
    "            \"end_date\": \"2019-12-31\",\n",
    "            \"band\": \"mean_2m_air_temperature\",\n",
    "            \"categorical\" : False\n",
    "        },\n",
    "    ]\n",
    "}\n",
    "\n",
    "polygon =     [\n",
    "        [[12.110134703672, 42.4439359314072],\n",
    "          [12.2254428638839, 42.2732798542936],\n",
    "          [12.3407510240958, 42.10262377718],\n",
    "          [12.4560591843077, 41.9319677000664],\n",
    "          [12.7005124839569, 41.9319677000664],\n",
    "          [12.9449657836061, 41.9319677000664],\n",
    "          [13.1894190832553, 41.9319677000664],\n",
    "          [13.4338723829045, 41.9319677000664],\n",
    "          [13.4338723829045, 42.8175343704937],\n",
    "          [13.2309300209316, 42.8774946138039],\n",
    "          [13.0279876589586, 42.937454857114],\n",
    "          [12.8250452969857, 42.9974151004242],\n",
    "          [12.6221029350128, 43.0573753437344],\n",
    "          [12.4929577955755, 43.0066397532412],\n",
    "          [12.3638126561382, 42.9559041627479],\n",
    "          [12.2346675167009, 42.9051685722547],\n",
    "          [12.1055223772636, 42.8544329817615],\n",
    "          [11.9948265434602, 42.6145920085208],\n",
    "          [12.110134703672, 42.4439359314072]]\n",
    "    ]"
   ]
  },
  {
   "cell_type": "code",
   "execution_count": null,
   "id": "cfddd003-7cfe-4e03-97cb-0b49e67dabd2",
   "metadata": {},
   "outputs": [],
   "source": [
    "# Opening JSON file\n",
    "\n",
    "# Use manual\n",
    "polygon = \"\"\"{\n",
    "    \"type\": \"MultiPolygon\",\n",
    "    \"coordinates\": [\n",
    "        [\n",
    "            [\n",
    "                [-75.88994979858398, -1.442146588951299],\n",
    "                [-75.9041976928711, -1.4579343782400327],\n",
    "                [-75.88651657104492, -1.476982541739627],\n",
    "                [-75.85647583007812, -1.4534726228737347],\n",
    "                [-75.88994979858398, -1.442146588951299]\n",
    "            ]\n",
    "        ],\n",
    "        [\n",
    "            [\n",
    "                [-75.9100341796875, -1.4939713066293112],\n",
    "                [-75.88977813720703, -1.5286348420409486],\n",
    "                [-75.8602523803711, -1.4953441303982713],\n",
    "                [-75.9100341796875, -1.4939713066293112]\n",
    "            ]\n",
    "        ]\n",
    "    ]\n",
    "}\"\"\"\n",
    "\n",
    "shape(json.loads(polygon))"
   ]
  },
  {
   "cell_type": "code",
   "execution_count": null,
   "id": "1e8356b0-feeb-45e7-b73d-ed48c4479fc1",
   "metadata": {},
   "outputs": [],
   "source": [
    "# Or read from file\n",
    "f = open('sample.geojson')\n",
    "polygon = json.dumps(json.load(f))\n",
    "shape(json.loads(polygon))"
   ]
  },
  {
   "cell_type": "code",
   "execution_count": null,
   "id": "fdf8637a-e6f8-43d9-98f9-1dc13a74fd00",
   "metadata": {},
   "outputs": [],
   "source": [
    "test_data = test_data_sources[\"continuous\"][0]\n",
    "\n",
    "asset_id = test_data[\"asset_id\"]\n",
    "band = test_data[\"band\"]\n",
    "ini_date = test_data[\"ini_date\"]\n",
    "end_date = test_data[\"end_date\"]\n",
    "categorical = test_data[\"categorical\"]"
   ]
  },
  {
   "cell_type": "code",
   "execution_count": null,
   "id": "391c1c61-21cc-44e2-95fc-6dd6cdb3d120",
   "metadata": {},
   "outputs": [],
   "source": [
    "result = zonal_stats(asset_id, ini_date, end_date, band, polygon, categorical)"
   ]
  },
  {
   "cell_type": "code",
   "execution_count": null,
   "id": "2fa5c544-9933-4480-b806-3ab3992181e0",
   "metadata": {},
   "outputs": [],
   "source": [
    "import ee\n",
    "ee.Initialize()"
   ]
  },
  {
   "cell_type": "code",
   "execution_count": null,
   "id": "1fdd9f87-e732-4477-8b2a-25cb111e67c3",
   "metadata": {},
   "outputs": [],
   "source": [
    "decoded_polygon = json.loads(polygon)\n",
    "\n",
    "geometry = ee.Geometry.MultiPolygon(decoded_polygon[\"coordinates\"])\n",
    "source_type = ee.data.getAsset(asset_id)[\"type\"]\n",
    "\n",
    "image_collection = (\n",
    "    ee.ImageCollection(asset_id)\n",
    "      .filter(ee.Filter.date(ini_date, end_date))\n",
    "      .select(band)\n",
    ")"
   ]
  },
  {
   "cell_type": "code",
   "execution_count": null,
   "id": "6b5b8007-99f8-4746-9e37-11e495df731c",
   "metadata": {},
   "outputs": [],
   "source": [
    "reduced = (image_collection.first()\n",
    "  .reduceRegion(**{\n",
    "    \"reducer\": ee.Reducer.minMax().combine(**{\n",
    "      \"reducer2\": ee.Reducer.mean(),\n",
    "      \"sharedInputs\": True\n",
    "    }), \n",
    "    \"geometry\":geometry,\n",
    "    \"scale\": 1,\n",
    "    \"bestEffort\": True\n",
    "  }\n",
    "))"
   ]
  },
  {
   "cell_type": "code",
   "execution_count": null,
   "id": "d6c42551-6ec8-499a-bb62-935657f4db08",
   "metadata": {},
   "outputs": [],
   "source": [
    "reduced.getInfo()"
   ]
  },
  {
   "cell_type": "code",
   "execution_count": null,
   "id": "f0f86d4f-bbad-4401-a745-24e0b5b37b88",
   "metadata": {},
   "outputs": [],
   "source": [
    "image_collection.first().bandNames().getInfo()"
   ]
  },
  {
   "cell_type": "code",
   "execution_count": null,
   "id": "c7f217fb-fd54-451d-8aec-aae1374cb013",
   "metadata": {},
   "outputs": [],
   "source": [
    "result"
   ]
  },
  {
   "cell_type": "markdown",
   "id": "b1c1a1ce-f6b2-4827-9e16-65a15494c107",
   "metadata": {},
   "source": [
    "## Test metadata"
   ]
  },
  {
   "cell_type": "code",
   "execution_count": null,
   "id": "9274ce49-4b62-4258-9653-1ce954a41f77",
   "metadata": {},
   "outputs": [],
   "source": [
    "import json"
   ]
  },
  {
   "cell_type": "code",
   "execution_count": null,
   "id": "fee9e909-f50c-4320-85ed-6b143cc7d042",
   "metadata": {},
   "outputs": [],
   "source": [
    "metadata = open('data.json')\n",
    "json.dumps(json.load(metadata))"
   ]
  }
 ],
 "metadata": {
  "kernelspec": {
   "display_name": "Python 3",
   "language": "python",
   "name": "python3"
  },
  "language_info": {
   "codemirror_mode": {
    "name": "ipython",
    "version": 3
   },
   "file_extension": ".py",
   "mimetype": "text/x-python",
   "name": "python",
   "nbconvert_exporter": "python",
   "pygments_lexer": "ipython3",
   "version": "3.8.10"
  }
 },
 "nbformat": 4,
 "nbformat_minor": 5
}
