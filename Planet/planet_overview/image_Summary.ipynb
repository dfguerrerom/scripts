{
 "cells": [
  {
   "cell_type": "markdown",
   "metadata": {},
   "source": [
    "# Unzip and display planet imagery from orders"
   ]
  },
  {
   "cell_type": "markdown",
   "metadata": {},
   "source": [
    "This notebook is used to unzip and display planet imagery from orders, it will also normalize the names between all the different samples to match with a single pattern."
   ]
  },
  {
   "cell_type": "code",
   "execution_count": null,
   "metadata": {},
   "outputs": [],
   "source": [
    "import os\n",
    "import glob\n",
    "import zipfile\n",
    "import pandas as pd\n",
    "from pathlib import Path"
   ]
  },
  {
   "cell_type": "code",
   "execution_count": null,
   "metadata": {},
   "outputs": [],
   "source": [
    "len(zip_files)"
   ]
  },
  {
   "cell_type": "code",
   "execution_count": null,
   "metadata": {},
   "outputs": [],
   "source": [
    "zip_files = [zip_f.replace('Batch1000_','').replace('Next_','') for zip_f in zip_files]"
   ]
  },
  {
   "cell_type": "code",
   "execution_count": null,
   "metadata": {},
   "outputs": [],
   "source": [
    "df_files = []\n",
    "for zip_ in zip_files:\n",
    "    folder, sample, zip_file = zip_.split('/')\n",
    "    archive = zipfile.ZipFile(zip_)\n",
    "    files = [file.filename for file in archive.filelist if file.filename.endswith('.tif') and \n",
    "             not 'udm' in file.filename]\n",
    "    df_files.append(pd.DataFrame(data=files))\n",
    "len(df_files)"
   ]
  },
  {
   "cell_type": "code",
   "execution_count": null,
   "metadata": {},
   "outputs": [],
   "source": [
    "df = pd.concat(df_files)"
   ]
  },
  {
   "cell_type": "code",
   "execution_count": null,
   "metadata": {},
   "outputs": [],
   "source": [
    "len(df)/len(df_files)"
   ]
  },
  {
   "cell_type": "code",
   "execution_count": null,
   "metadata": {},
   "outputs": [],
   "source": [
    "df"
   ]
  },
  {
   "cell_type": "markdown",
   "metadata": {},
   "source": [
    "# Download some files from zip"
   ]
  },
  {
   "cell_type": "code",
   "execution_count": null,
   "metadata": {},
   "outputs": [],
   "source": [
    "import pandas as pd\n",
    "import zipfile\n",
    "import os\n",
    "import glob\n",
    "import random"
   ]
  },
  {
   "cell_type": "code",
   "execution_count": null,
   "metadata": {},
   "outputs": [],
   "source": [
    "def extract_without_structure(zip_file, destination_folder):\n",
    "    \"\"\"Extract images in a destination folder skipping its structure\n",
    "    \n",
    "    files/image.tif will be extracted in destination_folder/sample_name/image.tif\n",
    "    \n",
    "    \"\"\"\n",
    "    with zipfile.ZipFile(zip_file) as archive:\n",
    "        files = [file.filename for file in archive.filelist if file.filename.endswith('.tif') and \n",
    "                     not 'udm' in file.filename]\n",
    "\n",
    "        \n",
    "        print(f'Unziping {len(files)} images in {archive.filename}')\n",
    "        for file in files:\n",
    "            zip_info = archive.getinfo(file)\n",
    "            \n",
    "            file_name = os.path.basename(zip_info.filename)\n",
    "            \n",
    "            split_name = file_name.split('_')\n",
    "            \n",
    "            if '3B' in file_name:\n",
    "                date = pd.to_datetime(split_name[0])\n",
    "            elif 'BGRN' in file_name or 'BGREN' in file_name:\n",
    "                date = pd.to_datetime(split_name[2])\n",
    "            elif 'RE' in file_name:\n",
    "                date = pd.to_datetime(split_name[1])\n",
    "            elif 'RGB' in file_name:\n",
    "                date = pd.to_datetime(split_name[2])\n",
    "            \n",
    "            date = date.strftime('%Y_%m_%d')\n",
    "                            \n",
    "            \n",
    "            zip_info.filename  = os.path.join(\n",
    "                                              os.path.basename(archive.filename)[:-4], \n",
    "                                              f'{date}_{os.path.basename(zip_info.filename)}')\n",
    "            \n",
    "            archive.extract(zip_info, destination_folder)\n",
    "    print('Done!')"
   ]
  },
  {
   "cell_type": "markdown",
   "metadata": {},
   "source": [
    "# Randomly extract a plot"
   ]
  },
  {
   "cell_type": "code",
   "execution_count": null,
   "metadata": {},
   "outputs": [],
   "source": [
    "sorted(os.listdir())"
   ]
  },
  {
   "cell_type": "code",
   "execution_count": null,
   "metadata": {
    "scrolled": true
   },
   "outputs": [],
   "source": [
    "zip_ = glob.glob('/home/dguerrero/2_DataNotebooks/4_PLANET_DOWNLOAD/downloads/FAOCO_Biocaribe/*/*.zip')\n",
    "zip_"
   ]
  },
  {
   "cell_type": "code",
   "execution_count": null,
   "metadata": {},
   "outputs": [],
   "source": [
    "extract_without_structure('/home/dguerrero/2_DataNotebooks/4_PLANET_DOWNLOAD/downloads/FAOCO_Biocaribe/_0/_0.zip', '/home/dguerrero/2_DataNotebooks/4_PLANET_DOWNLOAD/downloads/FAOCO_Biocaribe/_0/')"
   ]
  },
  {
   "cell_type": "code",
   "execution_count": null,
   "metadata": {
    "scrolled": true
   },
   "outputs": [],
   "source": [
    "# _=[extract_without_structure(random.choice(jambi_zip), 'unzip') for _ in range(2)]"
   ]
  },
  {
   "cell_type": "markdown",
   "metadata": {},
   "source": [
    "# Visualize images"
   ]
  },
  {
   "cell_type": "code",
   "execution_count": null,
   "metadata": {},
   "outputs": [],
   "source": [
    "import rasterio\n",
    "import matplotlib.pyplot as plt\n",
    "from rasterio.plot import show\n",
    "import ipyvuetify as v\n",
    "import numpy as np"
   ]
  },
  {
   "cell_type": "code",
   "execution_count": null,
   "metadata": {},
   "outputs": [],
   "source": [
    "def normalize(array):\n",
    "    \"\"\"Normalizes numpy arrays into scale 0.0 - 1.0\"\"\"\n",
    "    array_min, array_max = array.min(), array.max()\n",
    "    return ((array - array_min)/(array_max - array_min))\n",
    "\n",
    "def display_normalize_raster(image):\n",
    "    \n",
    "    raster = rasterio.open(image)\n",
    "    date = \"_\".join(os.path.basename(raster.name).split('_')[:3])\n",
    "    n_bands = raster.count\n",
    "    \n",
    "    if n_bands == 4:\n",
    "        red = raster.read(3)\n",
    "        nir = raster.read(4)\n",
    "        blue = raster.read(1)\n",
    "    else:\n",
    "        red = raster.read(1)\n",
    "        nir = raster.read(2)\n",
    "        blue = raster.read(3)\n",
    "\n",
    "    # Normalize the bands\n",
    "    redn = normalize(red)\n",
    "    nirn = normalize(nir)\n",
    "    bluen = normalize(blue)\n",
    "\n",
    "    # Create RGB natural color composite\n",
    "    composition = np.dstack((nirn, redn, bluen))\n",
    "\n",
    "    # Let's see how our color composite looks like\n",
    "    return composition, date"
   ]
  },
  {
   "cell_type": "code",
   "execution_count": null,
   "metadata": {},
   "outputs": [],
   "source": [
    "def display_multiple_img(images, cols=4, height=100, width=40):\n",
    "    rows = int(len(images)/cols+1.5)\n",
    "    figure, ax = plt.subplots(nrows=rows,ncols=cols)\n",
    "    figure.set_figheight(height)\n",
    "    figure.set_figwidth(width)\n",
    "    \n",
    "    for idx, image in enumerate(images):\n",
    "        composition, date = display_normalize_raster(image)\n",
    "        ax.ravel()[idx].set_axis_off()\n",
    "        ax.ravel()[idx].imshow(composition)\n",
    "        ax.ravel()[idx].set_title(f'{idx}_{date}')\n",
    "        \n",
    "#     figure.tight_layout()\n",
    "    figure"
   ]
  },
  {
   "cell_type": "code",
   "execution_count": null,
   "metadata": {},
   "outputs": [],
   "source": [
    "folder = '/home/dguerrero/2_DataNotebooks/4_PLANET_DOWNLOAD/downloads/FAOCO_Biocaribe/_0/'"
   ]
  },
  {
   "cell_type": "code",
   "execution_count": null,
   "metadata": {
    "scrolled": true
   },
   "outputs": [],
   "source": [
    "selection = v.Select(items=sorted([i for i in os.listdir(folder) if not i.startswith('.')]), v_model=\"None\")\n",
    "selection"
   ]
  },
  {
   "cell_type": "code",
   "execution_count": null,
   "metadata": {},
   "outputs": [],
   "source": [
    "rasters = sorted(glob.glob(os.path.join(folder,(selection.v_model),'*')))\n",
    "len(rasters)"
   ]
  },
  {
   "cell_type": "code",
   "execution_count": null,
   "metadata": {},
   "outputs": [],
   "source": [
    "rasters;"
   ]
  },
  {
   "cell_type": "code",
   "execution_count": null,
   "metadata": {},
   "outputs": [],
   "source": [
    "display_multiple_img(rasters, cols = 4, height=50, width=15)"
   ]
  }
 ],
 "metadata": {
  "kernelspec": {
   "display_name": "Python 3",
   "language": "python",
   "name": "python3"
  },
  "language_info": {
   "codemirror_mode": {
    "name": "ipython",
    "version": 3
   },
   "file_extension": ".py",
   "mimetype": "text/x-python",
   "name": "python",
   "nbconvert_exporter": "python",
   "pygments_lexer": "ipython3",
   "version": "3.6.9"
  }
 },
 "nbformat": 4,
 "nbformat_minor": 4
}
