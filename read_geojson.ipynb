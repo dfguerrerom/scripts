{
 "cells": [
  {
   "cell_type": "markdown",
   "id": "e2edb107-c6cf-462d-ba7a-7c28ddb779d4",
   "metadata": {},
   "source": [
    "# Read GeojSon from csv"
   ]
  },
  {
   "cell_type": "code",
   "execution_count": null,
   "id": "9301fdaf-0c1b-4569-9d5b-b81b291c2086",
   "metadata": {},
   "outputs": [],
   "source": [
    "import pandas as pd\n",
    "import geopandas as gpd\n",
    "import json\n",
    "from shapely.geometry import MultiPoint"
   ]
  },
  {
   "cell_type": "markdown",
   "id": "7004f22c-847e-4eae-a18d-73f75e15e7ee",
   "metadata": {},
   "source": [
    "#### Read CSV using pandas and explore the dataset"
   ]
  },
  {
   "cell_type": "code",
   "execution_count": null,
   "id": "0d953992",
   "metadata": {},
   "outputs": [],
   "source": [
    "df = pd.read_csv('csv/technologies_clean.csv', delimiter=';')\n",
    "df"
   ]
  },
  {
   "cell_type": "markdown",
   "id": "f77909b1-8c7e-4aa7-a4b2-41e163bcdfa7",
   "metadata": {},
   "source": [
    "#### Define a function to read string geometries and transform into shapely objects"
   ]
  },
  {
   "cell_type": "code",
   "execution_count": null,
   "id": "eed870ba-ebb3-4be2-8153-cbf58092e2e5",
   "metadata": {},
   "outputs": [],
   "source": [
    "def multipoint(geojson):\n",
    "    \n",
    "    try:\n",
    "        feature_collection = json.loads(geojson)\n",
    "\n",
    "        # Fix properties element, remove null for dict\n",
    "        for feature in feature_collection['features']:\n",
    "            feature['properties'] = {}\n",
    "    \n",
    "        return MultiPoint(points=gpd.GeoDataFrame.from_features(feature_collection).geometry)\n",
    "    \n",
    "    except Exception as e:\n",
    "        print(e)\n",
    "        return "
   ]
  },
  {
   "cell_type": "markdown",
   "id": "fccfa32f-fb81-41fe-a9a8-3a47abd95dca",
   "metadata": {},
   "source": [
    "#### Replace previous geometry applying previous function"
   ]
  },
  {
   "cell_type": "code",
   "execution_count": null,
   "id": "d3ea983b-b5eb-4d3f-82f9-a139207b19c2",
   "metadata": {},
   "outputs": [],
   "source": [
    "df['geometry'] = df['geometry'].apply(multipoint)"
   ]
  },
  {
   "cell_type": "markdown",
   "id": "2a9902a5-031f-4595-adf3-1161def1f690",
   "metadata": {},
   "source": [
    "#### Create a geodataframe and write it "
   ]
  },
  {
   "cell_type": "code",
   "execution_count": null,
   "id": "607bfaa3-9e4d-40d2-88d2-3c6f6e617b05",
   "metadata": {},
   "outputs": [],
   "source": [
    "gdf = gpd.GeoDataFrame(data=df, geometry=df.geometry, crs='EPSG:4326')\n",
    "gdf = gdf.set_crs('EPSG:4326')"
   ]
  },
  {
   "cell_type": "code",
   "execution_count": null,
   "id": "ff8568af-3c7e-4479-9ac8-3e77d1bc069e",
   "metadata": {},
   "outputs": [],
   "source": [
    "gdf"
   ]
  },
  {
   "cell_type": "code",
   "execution_count": null,
   "id": "d3b50d30",
   "metadata": {},
   "outputs": [],
   "source": [
    "# Save raw shapefile\n",
    "gdf.to_file(driver='ESRI Shapefile', filename='shp/technologies_clean.shp')"
   ]
  }
 ],
 "metadata": {
  "kernelspec": {
   "display_name": "Python 3",
   "language": "python",
   "name": "python3"
  },
  "language_info": {
   "codemirror_mode": {
    "name": "ipython",
    "version": 3
   },
   "file_extension": ".py",
   "mimetype": "text/x-python",
   "name": "python",
   "nbconvert_exporter": "python",
   "pygments_lexer": "ipython3",
   "version": "3.6.9"
  }
 },
 "nbformat": 4,
 "nbformat_minor": 5
}
