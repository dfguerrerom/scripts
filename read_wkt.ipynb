{
 "cells": [
  {
   "cell_type": "code",
   "execution_count": 1,
   "id": "ec4d29ee",
   "metadata": {},
   "outputs": [],
   "source": [
    "import re\n",
    "import csv\n",
    "import pandas as pd\n",
    "import geopandas as gpd\n",
    "from shapely.wkt import loads"
   ]
  },
  {
   "cell_type": "code",
   "execution_count": 2,
   "id": "ada76a72",
   "metadata": {},
   "outputs": [],
   "source": [
    "def read_wkt(wkt_str):\n",
    "    \"\"\"Read wkt polygons \n",
    "    \n",
    "    Args:\n",
    "        wkt_str (str) : wkt Polygon\n",
    "        \n",
    "    Return:\n",
    "        Nested list of polygons with coordinates\n",
    "    \"\"\"\n",
    "    \n",
    "    str_polygons = [poly.replace('(','') for poly in re.findall(r'\\((.*?)\\)', wkt_str)]\n",
    "\n",
    "    polygons=[]\n",
    "    for str_polygon in str_polygons:\n",
    "        coordinates=[]\n",
    "        for coordinate in str_polygon.split(','):\n",
    "            coordinates.append(coordinate.strip())\n",
    "        polygons.append(coordinates)\n",
    "    \n",
    "    return polygons"
   ]
  },
  {
   "cell_type": "code",
   "execution_count": 3,
   "id": "c4146ae3",
   "metadata": {},
   "outputs": [],
   "source": [
    "def close_line_string(polygons):\n",
    "    \n",
    "    \"\"\"Close polygons if aren't closed\n",
    "    \n",
    "    Args:\n",
    "        polygons (read_wkt): Nested list of polygons from read_wkt function\n",
    "        \n",
    "    Return:\n",
    "    \n",
    "        WKT polygon with closed linestring\n",
    "    \"\"\"\n",
    "    # Check if the polygon is not closed\n",
    "    \n",
    "    res = []\n",
    "    for polygon in polygons:\n",
    "        if polygon[0]!=polygon[-1]:\n",
    "            polygon += [polygon[0]]\n",
    "            res.append(polygon)\n",
    "        else:\n",
    "            res.append(polygon)\n",
    "\n",
    "    return f\"POLYGON {res}\".replace(\"'\",'').replace('[','(').replace(']',')')"
   ]
  },
  {
   "cell_type": "code",
   "execution_count": 4,
   "id": "4ee80bdc",
   "metadata": {},
   "outputs": [],
   "source": [
    "def filter_non_valid(df):\n",
    "    \"\"\"Filter non valid geometries due to lack of coordinates\"\"\"\n",
    "    \n",
    "    # Count number of pair-coordinates\n",
    "    \n",
    "    count_df = df.copy()\n",
    "    \n",
    "    count_df['GEOMETRIA'] = count_df['GEOMETRIA'].apply(read_wkt)\n",
    "    count_df['COUNT'] = count_df['GEOMETRIA'].apply(lambda x: len(x[0]))\n",
    "    count_df = count_df[count_df.COUNT>=4]\n",
    "    \n",
    "    return count_df"
   ]
  },
  {
   "cell_type": "code",
   "execution_count": 5,
   "id": "c47ca2ed",
   "metadata": {},
   "outputs": [],
   "source": [
    "df = pd.read_csv('csv/Prueba_programacion.csv', delimiter=';')\n",
    "df = filter_non_valid(df)\n",
    "df;"
   ]
  },
  {
   "cell_type": "code",
   "execution_count": 6,
   "id": "0b2ea85c",
   "metadata": {},
   "outputs": [],
   "source": [
    "# Fix unclosed polygons\n",
    "df['GEOMETRIA'] = df['GEOMETRIA'].apply(close_line_string)"
   ]
  },
  {
   "cell_type": "code",
   "execution_count": 7,
   "id": "2c2b1a35",
   "metadata": {},
   "outputs": [],
   "source": [
    "gdf = gpd.GeoDataFrame(df)\n",
    "gdf['geometry'] = gdf['GEOMETRIA'].apply(loads)\n",
    "gdf = gdf.set_crs('EPSG:4326')"
   ]
  },
  {
   "cell_type": "code",
   "execution_count": 8,
   "id": "7a7d957d",
   "metadata": {},
   "outputs": [],
   "source": [
    "# Create a convex hull to every polygon to fix its geometry\n",
    "convex_gdf = gdf.copy()\n",
    "convex_gdf.geometry = gdf.geometry.convex_hull"
   ]
  },
  {
   "cell_type": "code",
   "execution_count": 9,
   "id": "33a2879b",
   "metadata": {},
   "outputs": [
    {
     "name": "stderr",
     "output_type": "stream",
     "text": [
      "/usr/local/lib/python3.6/dist-packages/ipykernel_launcher.py:2: UserWarning: Column names longer than 10 characters will be truncated when saved to ESRI Shapefile.\n",
      "  \n"
     ]
    }
   ],
   "source": [
    "# Save raw shapefile\n",
    "gdf.to_file(driver='ESRI Shapefile', filename='shp/polygons.shp')"
   ]
  },
  {
   "cell_type": "code",
   "execution_count": 10,
   "id": "fd4adbdb",
   "metadata": {},
   "outputs": [
    {
     "name": "stderr",
     "output_type": "stream",
     "text": [
      "/usr/local/lib/python3.6/dist-packages/ipykernel_launcher.py:2: UserWarning: Column names longer than 10 characters will be truncated when saved to ESRI Shapefile.\n",
      "  \n"
     ]
    }
   ],
   "source": [
    "# Save convex hull shapefile\n",
    "convex_gdf.to_file(driver='ESRI Shapefile', filename='shp/polygons_convexed.shp')"
   ]
  }
 ],
 "metadata": {
  "kernelspec": {
   "display_name": "Python 3",
   "language": "python",
   "name": "python3"
  },
  "language_info": {
   "codemirror_mode": {
    "name": "ipython",
    "version": 3
   },
   "file_extension": ".py",
   "mimetype": "text/x-python",
   "name": "python",
   "nbconvert_exporter": "python",
   "pygments_lexer": "ipython3",
   "version": "3.6.9"
  }
 },
 "nbformat": 4,
 "nbformat_minor": 5
}
