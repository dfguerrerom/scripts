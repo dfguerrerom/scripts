{
 "cells": [
  {
   "cell_type": "code",
   "execution_count": 22,
   "id": "1bf1c573",
   "metadata": {},
   "outputs": [],
   "source": [
    "import csv\n",
    "import pandas as pd\n",
    "import geopandas as gpd\n",
    "from shapely.wkt import loads"
   ]
  },
  {
   "cell_type": "code",
   "execution_count": 144,
   "id": "ebdb4a8d",
   "metadata": {},
   "outputs": [],
   "source": [
    "def close_line_string(wkt_str):\n",
    "    \n",
    "    str_polygons = [poly.replace('(','') for poly in re.findall(r'\\((.*?)\\)', wkt_str)]\n",
    "\n",
    "    polygons=[]\n",
    "    for str_polygon in str_polygons:\n",
    "        coordinates=[]\n",
    "        for coordinate in str_polygon.split(','):\n",
    "            coordinates.append(coordinate.strip())\n",
    "        polygons.append(coordinates)\n",
    "    \n",
    "    # Check if the polygon is not closed\n",
    "    \n",
    "    res = []\n",
    "    for polygon in polygons:\n",
    "        if polygon[0]!=polygon[-1]:\n",
    "            polygon += [polygon[0]]\n",
    "            res.append(polygon)\n",
    "        else:\n",
    "            res.append(polygon)\n",
    "\n",
    "    return f\"POLYGON {res}\".replace(\"'\",'').replace('[','(').replace(']',')')"
   ]
  },
  {
   "cell_type": "code",
   "execution_count": 173,
   "id": "c18f2d5a",
   "metadata": {},
   "outputs": [],
   "source": [
    "df = pd.read_csv('csv/Prueba_programacion.csv', delimiter=';')\n",
    "df = df[:20]"
   ]
  },
  {
   "cell_type": "code",
   "execution_count": 174,
   "id": "85a5d273",
   "metadata": {},
   "outputs": [],
   "source": [
    "df['GEOMETRIA'] = df['GEOMETRIA'].apply(close_line_string)"
   ]
  },
  {
   "cell_type": "code",
   "execution_count": 181,
   "id": "6be893e7",
   "metadata": {},
   "outputs": [],
   "source": [
    "gdf = gpd.GeoDataFrame(df)\n",
    "gdf['geometry'] = gdf['GEOMETRIA'].apply(loads)\n",
    "gdf = gdf.set_crs('EPSG:4326')"
   ]
  },
  {
   "cell_type": "code",
   "execution_count": 184,
   "id": "d28e16e6",
   "metadata": {},
   "outputs": [
    {
     "name": "stderr",
     "output_type": "stream",
     "text": [
      "/usr/local/lib/python3.6/dist-packages/ipykernel_launcher.py:1: UserWarning: Column names longer than 10 characters will be truncated when saved to ESRI Shapefile.\n",
      "  \"\"\"Entry point for launching an IPython kernel.\n"
     ]
    }
   ],
   "source": [
    "gdf.to_file(driver='ESRI Shapefile', filename='shp/polygons.shp')"
   ]
  }
 ],
 "metadata": {
  "kernelspec": {
   "display_name": "Python 3",
   "language": "python",
   "name": "python3"
  },
  "language_info": {
   "codemirror_mode": {
    "name": "ipython",
    "version": 3
   },
   "file_extension": ".py",
   "mimetype": "text/x-python",
   "name": "python",
   "nbconvert_exporter": "python",
   "pygments_lexer": "ipython3",
   "version": "3.6.9"
  }
 },
 "nbformat": 4,
 "nbformat_minor": 5
}
